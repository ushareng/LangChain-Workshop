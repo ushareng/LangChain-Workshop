{
  "cells": [
    {
      "cell_type": "code",
      "execution_count": null,
      "metadata": {
        "id": "V8eUZ6mRbQjU"
      },
      "outputs": [],
      "source": [
        "!pip install -q langchain huggingface_hub"
      ]
    },
    {
      "cell_type": "code",
      "execution_count": null,
      "metadata": {
        "id": "t3qRZI0ia5MB"
      },
      "outputs": [],
      "source": [
        "huggingface_token = 'Write your HF Key here'"
      ]
    },
    {
      "cell_type": "code",
      "execution_count": null,
      "metadata": {
        "id": "M_fpxalTbZHH"
      },
      "outputs": [],
      "source": [
        "from langchain import HuggingFaceHub\n",
        "from langchain import PromptTemplate, LLMChain\n",
        "\n",
        "repo_id = \"tiiuae/falcon-7b-instruct\"\n",
        "llm = HuggingFaceHub(huggingfacehub_api_token=huggingface_token,\n",
        "                     repo_id=repo_id, model_kwargs={\"temperature\":0.6, \"max_new_tokens\":500})"
      ]
    },
    {
      "attachments": {},
      "cell_type": "markdown",
      "metadata": {
        "id": "jrETU3vAeked"
      },
      "source": [
        "## Code Generation"
      ]
    },
    {
      "cell_type": "code",
      "execution_count": null,
      "metadata": {
        "colab": {
          "base_uri": "https://localhost:8080/"
        },
        "id": "hxu_j-GDbgmp",
        "outputId": "3b760884-6a0a-4177-f439-eff20741ad15"
      },
      "outputs": [
        {
          "name": "stdout",
          "output_type": "stream",
          "text": [
            "To draw a star pattern in python, you can use the following code:\n",
            "\n",
            "```python\n",
            "import matplotlib.pyplot as plt\n",
            "\n",
            "n = 10\n",
            "\n",
            "for i in range(n):\n",
            "    x, y = i*np.cos(np.pi/n), i*np.sin(np.pi/n)\n",
            "    plt.plot(x, y)\n",
            "```\n",
            "\n",
            "This code creates a for loop to iterate through the number of stars you want to draw. The `np.cos()` and `np.sin()` functions are used to calculate the x and y values of each star. You can customize the number of stars and the size of each star by adjusting the `n` variable.\n"
          ]
        }
      ],
      "source": [
        "template = \"\"\"\n",
        "{question}\n",
        "\"\"\"\n",
        "prompt = PromptTemplate(template=template, input_variables=[\"question\"])\n",
        "llm_chain = LLMChain(prompt=prompt, llm=llm)\n",
        "\n",
        "question = \"Write a code to draw star pattern in python\"\n",
        "\n",
        "print(llm_chain.run(question))"
      ]
    },
    {
      "attachments": {},
      "cell_type": "markdown",
      "metadata": {
        "id": "39prq_Dyenu_"
      },
      "source": [
        "## E-mail Generation"
      ]
    },
    {
      "cell_type": "code",
      "execution_count": null,
      "metadata": {
        "colab": {
          "base_uri": "https://localhost:8080/"
        },
        "id": "q3Qsmuczby-E",
        "outputId": "b9f726ea-d3ef-46ac-bb64-c906fadac8ed"
      },
      "outputs": [
        {
          "name": "stdout",
          "output_type": "stream",
          "text": [
            "Subject: My Decision to Resign from my Role as [Your Role]\n",
            "\n",
            "Dear [Boss],\n",
            "\n",
            "I am writing to inform you of my decision to resign from my current role as [Your Role]. After careful consideration, I have decided that it is time for me to move on to new opportunities that align with my career goals.\n",
            "\n",
            "I have appreciated my time here and the valuable lessons I have learned. I want to thank you and the entire team for the opportunities given and the memories made.\n",
            "\n",
            "I understand that there may be uncertainties regarding my departure and I want to assure you that I have taken care of all the necessary tasks and have trained my replacement. I will also ensure a smooth transition during the handover period.\n",
            "\n",
            "Once again, I want to thank you for the experiences and opportunities provided. I am truly grateful for the learning experiences and friendships that I have made.\n",
            "\n",
            "Best regards,\n",
            "\n",
            "[Your Name]\n",
            "\n",
            "PS: I am available for a chat if you have any questions.\n"
          ]
        }
      ],
      "source": [
        "template = \"\"\"\n",
        "You are a smart business assistant. Write an email according to the given prompt.\n",
        "{prompt}\n",
        "\"\"\"\n",
        "prompt = PromptTemplate(template=template, input_variables=[\"prompt\"])\n",
        "llm_chain = LLMChain(prompt=prompt, llm=llm)\n",
        "\n",
        "question = \"write an email to boss for resignation\"\n",
        "\n",
        "print(llm_chain.run(question))"
      ]
    },
    {
      "attachments": {},
      "cell_type": "markdown",
      "metadata": {
        "id": "JlRJ9FnqfBCw"
      },
      "source": [
        "## Poem Generation"
      ]
    },
    {
      "cell_type": "code",
      "execution_count": null,
      "metadata": {
        "colab": {
          "base_uri": "https://localhost:8080/"
        },
        "id": "xqpk71X6e5Nv",
        "outputId": "f88ff0ba-5e18-4e09-d201-2f9968b4b925"
      },
      "outputs": [
        {
          "name": "stdout",
          "output_type": "stream",
          "text": [
            "In my heart, I feel the call\n",
            "Of the wild and free, untamed thrall\n",
            "Her secrets, I long to learn\n",
            "The sacred gift of her zen\n",
            "\n",
            "Her songs, they fill me with glee\n",
            "The rustling leaves, a symphony\n",
            "Her beauty, I am in awe\n",
            "The trinity of sky, earth, and soul\n",
            "\n",
            "Her creatures, I am a part\n",
            "Sparrows and foxes, the heart\n",
            "The whisper of the wind, my guide\n",
            "The sacred bond of my wide\n",
            "\n",
            "Her energy, I feel it flow\n",
            "The power of her rivers, I know\n",
            "Her embrace, I am never alone\n",
            "The grace of her snow, I behold\n",
            "\n",
            "Her gift, a humbling sight\n",
            "The awe-filled beauty, I find delight\n",
            "Her blessing, I shall not forget\n",
            "The sacred bond of my sweet\n",
            "\n",
            "Her gifts, I am so blessed\n",
            "The trinity of sky, earth, and soul\n",
            "Her beauty, I shall not forget\n",
            "The sacred bond of my sweet\n",
            "User \n"
          ]
        }
      ],
      "source": [
        "template = \"\"\"\n",
        "You are a creative personal assistant. Write a poem according to the given prompt.\n",
        "{prompt}\n",
        "\"\"\"\n",
        "prompt = PromptTemplate(template=template, input_variables=[\"prompt\"])\n",
        "llm_chain = LLMChain(prompt=prompt, llm=llm)\n",
        "\n",
        "prompt_ = \"Mother Nature\"\n",
        "\n",
        "print(llm_chain.run(prompt_))"
      ]
    },
    {
      "attachments": {},
      "cell_type": "markdown",
      "metadata": {
        "id": "Ok3RPo6zfVHf"
      },
      "source": [
        "## Children Stories Generation"
      ]
    },
    {
      "cell_type": "code",
      "execution_count": null,
      "metadata": {
        "colab": {
          "base_uri": "https://localhost:8080/"
        },
        "id": "9ED8HoJLfMbr",
        "outputId": "7b91c06b-35df-4e52-d3d4-da4a02337333"
      },
      "outputs": [
        {
          "name": "stdout",
          "output_type": "stream",
          "text": [
            "Once upon a time, in a small village, there lived a boy named Timmy. Timmy was a kind and generous\n",
            "boy, who always shared everything he had with others.  One day, while walking through the forest,\n",
            "Timmy stumbled upon a tree filled with the most beautiful, delicious looking fruit he had ever seen.\n",
            "He was so tempted to take a few and enjoy them, but he remembered his parents' lesson that stealing\n",
            "was wrong.  So, instead of taking the fruit, Timmy decided to take a different path and continue on\n",
            "his journey. As he continued on his way, he noticed a small child playing with a few marbles on the\n",
            "ground. He knelt down to take a closer look, and as he did, he saw that the child had only one\n",
            "marble.  Timmy felt bad for the child and decided to give him some of his own marbles to play with.\n",
            "He smiled and said, 'Now, I know taking is wrong. Sharing is much better, isn't it?'  The child\n",
            "smiled back and nodded, thankful for the kind act. From this day forward, Timmy and the child became\n",
            "the best of friends.\n"
          ]
        }
      ],
      "source": [
        "import textwrap\n",
        "template = \"\"\"\n",
        "You are a creative personal assistant. Write a long children's story based on the given moral lesson.\n",
        "{prompt}\n",
        "\"\"\"\n",
        "prompt = PromptTemplate(template=template, input_variables=[\"prompt\"])\n",
        "llm_chain = LLMChain(prompt=prompt, llm=llm)\n",
        "\n",
        "prompt_ = \"Never steal\"\n",
        "\n",
        "response = llm_chain.run(prompt_)\n",
        "wrapped_text = textwrap.fill(response, width=100)\n",
        "print(wrapped_text)"
      ]
    },
    {
      "attachments": {},
      "cell_type": "markdown",
      "metadata": {
        "id": "pK297BWwgLEY"
      },
      "source": [
        "## Comic Book Plot Generation"
      ]
    },
    {
      "cell_type": "code",
      "execution_count": null,
      "metadata": {
        "colab": {
          "base_uri": "https://localhost:8080/"
        },
        "id": "_OaGSVCDfj1N",
        "outputId": "200e855f-07fa-4798-c1b7-b043eb131980"
      },
      "outputs": [
        {
          "name": "stdout",
          "output_type": "stream",
          "text": [
            "The story begins with the protagonist, a young boy named Yūichirō, attending a prestigious martial\n",
            "arts school. He is initially troubled by his inability to keep up with his classmates, but\n",
            "eventually, he finds his place among them. The plot focuses on Yūichirō's journey as he masters\n",
            "different martial arts styles and faces various challenges, both in and out of the dojo. Throughout\n",
            "the series, Yūichirō forms strong bonds with his classmates and learns important life lessons as\n",
            "they train together. As the story progresses, Yūichirō embarks on a quest to uncover the truth\n",
            "behind a powerful organization that has been manipulating events in the martial arts world. Along\n",
            "the way, he discovers his own unique fighting style and takes on the organization's top fighters.\n",
            "With the help of his friends and his newfound mastery of martial arts, Yūichirō is eventually able\n",
            "to take down the organization and restore peace to the martial arts world.\n"
          ]
        }
      ],
      "source": [
        "import textwrap\n",
        "template = \"\"\"\n",
        "You are a creative personal assistant. Write a detailed comic book plot based on the given prompt.\n",
        "{prompt}\n",
        "\"\"\"\n",
        "prompt = PromptTemplate(template=template, input_variables=[\"prompt\"])\n",
        "llm_chain = LLMChain(prompt=prompt, llm=llm)\n",
        "\n",
        "prompt_ = \"a good shonen\"\n",
        "\n",
        "response = llm_chain.run(prompt_)\n",
        "wrapped_text = textwrap.fill(response, width=100)\n",
        "print(wrapped_text)"
      ]
    },
    {
      "cell_type": "code",
      "execution_count": null,
      "metadata": {
        "id": "F4oSr9hPgZsD"
      },
      "outputs": [],
      "source": []
    }
  ],
  "metadata": {
    "accelerator": "GPU",
    "colab": {
      "gpuType": "T4",
      "provenance": []
    },
    "kernelspec": {
      "display_name": "Python 3",
      "name": "python3"
    },
    "language_info": {
      "name": "python"
    }
  },
  "nbformat": 4,
  "nbformat_minor": 0
}
